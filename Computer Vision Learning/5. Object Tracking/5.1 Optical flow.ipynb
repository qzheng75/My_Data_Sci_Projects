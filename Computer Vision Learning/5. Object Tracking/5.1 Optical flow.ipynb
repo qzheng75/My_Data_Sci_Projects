{
 "cells": [
  {
   "cell_type": "markdown",
   "metadata": {},
   "source": [
    "## Optical flow\n",
    "\n",
    "First take in a given set of points and a frame. Then it attempts to find those points in the next frame. The user should give the points to track.\n",
    "\n",
    "We pass in the previous frame, previous points and the current frame to the **Lucas-Kanade** function.\n",
    "\n",
    "The function computes optical flow for a **sparse** feature set. (only points that are told to be tracked)\n",
    "\n",
    "Track all points in the video: **Gunner Farneback's** algorithm: calculate **dense** optical flow. (all points in an image)"
   ]
  },
  {
   "cell_type": "markdown",
   "metadata": {},
   "source": [
    "### Lucas Kanade function"
   ]
  },
  {
   "cell_type": "code",
   "execution_count": 1,
   "metadata": {},
   "outputs": [],
   "source": [
    "import numpy as np\n",
    "import cv2"
   ]
  },
  {
   "cell_type": "markdown",
   "metadata": {},
   "source": [
    "First detect corners"
   ]
  },
  {
   "cell_type": "code",
   "execution_count": 2,
   "metadata": {},
   "outputs": [],
   "source": [
    "corner_track_params = dict(maxCorners=10, qualityLevel=0.3,\n",
    "                          minDistance=7, blockSize=7)\n"
   ]
  },
  {
   "cell_type": "markdown",
   "metadata": {},
   "source": [
    "`maxLevel` is for pyramid in image processing.\n",
    "\n",
    "We will two criterion for the L-K function."
   ]
  },
  {
   "cell_type": "code",
   "execution_count": 3,
   "metadata": {},
   "outputs": [],
   "source": [
    "lk_params = dict(winSize=(200, 200), maxLevel=2, criteria=(cv2.TERM_CRITERIA_EPS | cv2.TERM_CRITERIA_COUNT, 10, 0.03))"
   ]
  },
  {
   "cell_type": "code",
   "execution_count": 6,
   "metadata": {},
   "outputs": [],
   "source": [
    "cap = cv2.VideoCapture(0)\n",
    "\n",
    "ret, prev_frame = cap.read()\n",
    "prev_gray = cv2.cvtColor(prev_frame, cv2.COLOR_BGR2GRAY)\n",
    "\n",
    "# points to track\n",
    "prev_pts = cv2.goodFeaturesToTrack(prev_gray, mask=None, **corner_track_params)\n",
    "mask = np.zeros_like(prev_frame)\n",
    "\n",
    "while True:\n",
    "    ret, frame = cap.read()\n",
    "    cur_gray = cv2.cvtColor(frame, cv2.COLOR_BGR2GRAY)\n",
    "    \n",
    "    # Call Lukas Kanade with pyramid\n",
    "    next_pts, status, err = cv2.calcOpticalFlowPyrLK(prev_gray, cur_gray, prev_pts, None, **lk_params)\n",
    "    \n",
    "    # status == 1 if the next point is found in the new frame\n",
    "    good_new = next_pts[status == 1]\n",
    "    good_prev = prev_pts[status == 1]\n",
    "    \n",
    "    for i, (new, prev) in enumerate(zip(good_new, good_prev)):\n",
    "        x_new, y_new = new.ravel() # Flatten the array\n",
    "        x_prev, y_prev = prev.ravel()\n",
    "        mask = cv2.line(mask, (x_new, y_new), (x_prev, y_prev)\n",
    "                       , (0, 255, 0), 3)\n",
    "        \n",
    "        frame = cv2.circle(frame, (x_new, y_new), 8, (0, 0, 255), -1)\n",
    "    \n",
    "    img = cv2.add(frame, mask)\n",
    "    cv2.imshow('tracking', img)\n",
    "    \n",
    "    k = cv2.waitKey(30) & 0xFF\n",
    "    if k == 27:\n",
    "        break\n",
    "    \n",
    "    prev_gray = cur_gray.copy()\n",
    "    prev_pts = good_new.reshape(-1, 1, 2)\n",
    "    \n",
    "cv2.destroyAllWindows()\n",
    "cap.release()"
   ]
  },
  {
   "cell_type": "code",
   "execution_count": null,
   "metadata": {},
   "outputs": [],
   "source": []
  }
 ],
 "metadata": {
  "kernelspec": {
   "display_name": "Python 3",
   "language": "python",
   "name": "python3"
  },
  "language_info": {
   "codemirror_mode": {
    "name": "ipython",
    "version": 3
   },
   "file_extension": ".py",
   "mimetype": "text/x-python",
   "name": "python",
   "nbconvert_exporter": "python",
   "pygments_lexer": "ipython3",
   "version": "3.6.6"
  }
 },
 "nbformat": 4,
 "nbformat_minor": 2
}
