{
 "cells": [
  {
   "cell_type": "markdown",
   "metadata": {},
   "source": [
    "Python lists vs numpy arrays"
   ]
  },
  {
   "cell_type": "code",
   "execution_count": 1,
   "metadata": {},
   "outputs": [],
   "source": [
    "import numpy as np\n",
    "\n",
    "# List\n",
    "L = [1, 2, 3]\n",
    "\n",
    "# Array\n",
    "A = np.array([1, 2, 3])"
   ]
  },
  {
   "cell_type": "code",
   "execution_count": 2,
   "metadata": {},
   "outputs": [
    {
     "name": "stdout",
     "output_type": "stream",
     "text": [
      "1\n",
      "2\n",
      "3\n"
     ]
    }
   ],
   "source": [
    "# Loop through items in list\n",
    "for e in L:\n",
    "    print(e)"
   ]
  },
  {
   "cell_type": "code",
   "execution_count": 3,
   "metadata": {},
   "outputs": [
    {
     "name": "stdout",
     "output_type": "stream",
     "text": [
      "1\n",
      "2\n",
      "3\n"
     ]
    }
   ],
   "source": [
    "# Loop through items in numpy array\n",
    "for e in A:\n",
    "    print(e)"
   ]
  },
  {
   "cell_type": "code",
   "execution_count": 4,
   "metadata": {},
   "outputs": [
    {
     "name": "stdout",
     "output_type": "stream",
     "text": [
      "[1, 2, 3, 4]\n"
     ]
    }
   ],
   "source": [
    "# Adding item to a list\n",
    "L.append(4)\n",
    "print(L)\n",
    "\n",
    "# Adding to numpy array: can't do them directly!"
   ]
  },
  {
   "cell_type": "code",
   "execution_count": 5,
   "metadata": {},
   "outputs": [
    {
     "name": "stdout",
     "output_type": "stream",
     "text": [
      "[1, 2, 3, 4, 5]\n",
      "[5 6 7]\n",
      "[5 7 9]\n"
     ]
    }
   ],
   "source": [
    "# Add lists together (concatenation)\n",
    "print(L + [5])\n",
    "\n",
    "# Add to numpy array (broadcasting)\n",
    "print(A + np.array([4]))\n",
    "\n",
    "# Add different values to an array\n",
    "# Inhomogenous shapes are not allowed\n",
    "print(A + np.array([4, 5, 6]))"
   ]
  },
  {
   "cell_type": "code",
   "execution_count": 6,
   "metadata": {},
   "outputs": [
    {
     "name": "stdout",
     "output_type": "stream",
     "text": [
      "[2 4 6]\n",
      "[1, 2, 3, 4, 1, 2, 3, 4]\n",
      "[1 4 9]\n",
      "[1.         1.41421356 1.73205081]\n",
      "[0.         0.69314718 1.09861229]\n",
      "[ 2.71828183  7.3890561  20.08553692]\n",
      "[0.76159416 0.96402758 0.99505475]\n"
     ]
    }
   ],
   "source": [
    "# Scalar multiplication in numpy array\n",
    "print(2 * A)\n",
    "\n",
    "# In list, * repeats elements in list\n",
    "# That means you can't multiply a float\n",
    "print(2 * L)\n",
    "\n",
    "# Element-wise operations in numpy array, not allowed in lists\n",
    "print(A ** 2)\n",
    "print(np.sqrt(A))\n",
    "print(np.log(A))\n",
    "print(np.exp(A))\n",
    "print(np.tanh(A))"
   ]
  },
  {
   "cell_type": "markdown",
   "metadata": {},
   "source": [
    "Dot product"
   ]
  },
  {
   "cell_type": "code",
   "execution_count": 7,
   "metadata": {},
   "outputs": [],
   "source": [
    "a = np.array([1, 2])\n",
    "b = np.array([3, 4])"
   ]
  },
  {
   "cell_type": "code",
   "execution_count": 8,
   "metadata": {},
   "outputs": [
    {
     "name": "stdout",
     "output_type": "stream",
     "text": [
      "[3 8]\n",
      "11\n",
      "11\n",
      "11\n"
     ]
    }
   ],
   "source": [
    "# Simply * doesn't work: that's element-wise\n",
    "print(a * b)\n",
    "\n",
    "# Sum the elements give the dot product\n",
    "print(np.sum(a * b))\n",
    "\n",
    "# Use np.dot()\n",
    "print(np.dot(a, b))\n",
    "\n",
    "# Newer version: use @ symbol\n",
    "print(a @ b)"
   ]
  },
  {
   "cell_type": "code",
   "execution_count": 9,
   "metadata": {},
   "outputs": [
    {
     "name": "stdout",
     "output_type": "stream",
     "text": [
      "2.23606797749979\n",
      "2.23606797749979\n",
      "0.9838699100999074 0.17985349979247847\n"
     ]
    }
   ],
   "source": [
    "# Find magnitute of vector\n",
    "amag = np.sqrt(np.dot(a, a))\n",
    "print(amag)\n",
    "\n",
    "# Function: use np.linalg.norm\n",
    "print(np.linalg.norm(a))\n",
    "\n",
    "# Calculate cos of vectors\n",
    "cos = np.dot(a, b) / (np.linalg.norm(a) * np.linalg.norm(b))\n",
    "print(cos, np.arccos(cos))"
   ]
  },
  {
   "cell_type": "markdown",
   "metadata": {},
   "source": [
    "Working with matrices"
   ]
  },
  {
   "cell_type": "code",
   "execution_count": 10,
   "metadata": {},
   "outputs": [
    {
     "data": {
      "text/plain": [
       "array([[1, 2],\n",
       "       [3, 4]])"
      ]
     },
     "execution_count": 10,
     "metadata": {},
     "output_type": "execute_result"
    }
   ],
   "source": [
    "# Represent a matrix\n",
    "A = np.array([[1, 2], [3, 4]])\n",
    "A"
   ]
  },
  {
   "cell_type": "code",
   "execution_count": 11,
   "metadata": {},
   "outputs": [
    {
     "name": "stdout",
     "output_type": "stream",
     "text": [
      "2\n",
      "[1 3]\n",
      "[[1 3]\n",
      " [2 4]]\n",
      "[[ 1  4]\n",
      " [ 9 16]]\n"
     ]
    }
   ],
   "source": [
    "# Conveniently indexing\n",
    "print(A[0, 1]) # = A[0][1]\n",
    "\n",
    "# Select a column\n",
    "print(A[:, 0]) # Return every row (dim=0) at index 0\n",
    "\n",
    "# Get transpose\n",
    "print(A.T)\n",
    "\n",
    "# Get element-wise power\n",
    "print(A ** 2)"
   ]
  },
  {
   "cell_type": "code",
   "execution_count": 12,
   "metadata": {},
   "outputs": [
    {
     "name": "stdout",
     "output_type": "stream",
     "text": [
      "[[ 9 12 15]\n",
      " [19 26 33]]\n"
     ]
    }
   ],
   "source": [
    "B = np.array([[1, 2, 3], [4, 5, 6]])\n",
    "\n",
    "# Multiply A and B: A * B\n",
    "print(np.dot(A, B))\n",
    "\n",
    "# Element-wise product\n",
    "# Not possible for A and B because dimensions don't match"
   ]
  },
  {
   "cell_type": "code",
   "execution_count": 13,
   "metadata": {},
   "outputs": [
    {
     "name": "stdout",
     "output_type": "stream",
     "text": [
      "-2.0000000000000004\n",
      "[[-2.   1. ]\n",
      " [ 1.5 -0.5]]\n",
      "[[1.00000000e+00 0.00000000e+00]\n",
      " [1.11022302e-16 1.00000000e+00]]\n",
      "5\n"
     ]
    }
   ],
   "source": [
    "# Determinant\n",
    "print(np.linalg.det(A))\n",
    "\n",
    "# Inverse\n",
    "print(np.linalg.inv(A))\n",
    "print(np.linalg.inv(A).dot(A)) # Note accuracy issue\n",
    "\n",
    "# Trace of A\n",
    "print(np.trace(A))"
   ]
  },
  {
   "cell_type": "code",
   "execution_count": 14,
   "metadata": {},
   "outputs": [
    {
     "name": "stdout",
     "output_type": "stream",
     "text": [
      "[1 4]\n",
      "[[1 0]\n",
      " [0 4]]\n"
     ]
    }
   ],
   "source": [
    "# Get diagnol elements of a matrix\n",
    "print(np.diag(A))\n",
    "\n",
    "# Call diag on vector: get the diag matrix\n",
    "print(np.diag([1, 4]))"
   ]
  },
  {
   "cell_type": "code",
   "execution_count": 15,
   "metadata": {},
   "outputs": [
    {
     "name": "stdout",
     "output_type": "stream",
     "text": [
      "[-0.37228132  5.37228132]\n",
      "[[-0.82456484 -0.41597356]\n",
      " [ 0.56576746 -0.90937671]]\n",
      "True\n",
      "True\n"
     ]
    }
   ],
   "source": [
    "# Eigenvalues/Eigenvectors\\\n",
    "lam, V = np.linalg.eig(A)\n",
    "print(lam)\n",
    "print(V)\n",
    "\n",
    "# Check with eigen decompositions\n",
    "print(np.allclose(V[:, 0] * lam[0], A @ V[:, 0]))\n",
    "print(np.allclose(V * lam, A @ V))"
   ]
  },
  {
   "cell_type": "markdown",
   "metadata": {},
   "source": [
    "Solving linear systems"
   ]
  },
  {
   "cell_type": "code",
   "execution_count": 16,
   "metadata": {},
   "outputs": [
    {
     "name": "stdout",
     "output_type": "stream",
     "text": [
      "[1500.  700.]\n"
     ]
    }
   ],
   "source": [
    "# Use np.linalg.solve(A, b) by represent functions as matrices\n",
    "A = np.array([[1, 1], [1.5, 4]])\n",
    "b = np.array([2200, 5050])\n",
    "print(np.linalg.solve(A, b))"
   ]
  },
  {
   "cell_type": "markdown",
   "metadata": {},
   "source": [
    "Generating Data"
   ]
  },
  {
   "cell_type": "code",
   "execution_count": 17,
   "metadata": {},
   "outputs": [
    {
     "name": "stdout",
     "output_type": "stream",
     "text": [
      "[[0. 0. 0.]\n",
      " [0. 0. 0.]]\n",
      "[[1. 1. 1.]\n",
      " [1. 1. 1.]]\n",
      "[[10. 10. 10.]\n",
      " [10. 10. 10.]]\n",
      "[[1. 0. 0.]\n",
      " [0. 1. 0.]\n",
      " [0. 0. 1.]]\n"
     ]
    }
   ],
   "source": [
    "# Zeros matrix\n",
    "print(np.zeros((2, 3)))\n",
    "\n",
    "# Ones matrix\n",
    "print(np.ones((2, 3)))\n",
    "\n",
    "# Matrix filled with any number\n",
    "print(10 * np.ones((2, 3)))\n",
    "\n",
    "# Identity matrix\n",
    "print(np.eye(3))"
   ]
  },
  {
   "cell_type": "code",
   "execution_count": 18,
   "metadata": {},
   "outputs": [
    {
     "name": "stdout",
     "output_type": "stream",
     "text": [
      "0.3464223168862337\n",
      "[[0.03816647 0.88315145 0.67441139]\n",
      " [0.63230674 0.39556827 0.45838172]]\n"
     ]
    }
   ],
   "source": [
    "# One random number\n",
    "print(np.random.random())\n",
    "\n",
    "# A random array\n",
    "print(np.random.random((2, 3)))\n"
   ]
  },
  {
   "cell_type": "code",
   "execution_count": 19,
   "metadata": {},
   "outputs": [
    {
     "name": "stdout",
     "output_type": "stream",
     "text": [
      "[[ 0.01745487 -0.29509591  1.54807336]\n",
      " [-0.55531348  0.48581089  0.18738518]]\n",
      "-0.0032003233657327264 0.9938811718990282\n"
     ]
    }
   ],
   "source": [
    "# Random data from standard normal distribution\n",
    "# Mean = 0 and std = 1 distribution\n",
    "print(np.random.randn(2, 3))\n",
    "\n",
    "R = np.random.randn(10000)\n",
    "print(np.mean(R), np.var(R))"
   ]
  },
  {
   "cell_type": "code",
   "execution_count": 20,
   "metadata": {},
   "outputs": [
    {
     "name": "stdout",
     "output_type": "stream",
     "text": [
      "[-0.0053199   0.06929954  0.03652741]\n",
      "(1000,)\n",
      "(1000, 1000)\n",
      "[[ 0.98517892  0.01223048 -0.0063507 ]\n",
      " [ 0.01223048  1.0284079   0.01021349]\n",
      " [-0.0063507   0.01021349  1.05828356]]\n",
      "[[ 0.98517892  0.01223048 -0.0063507 ]\n",
      " [ 0.01223048  1.0284079   0.01021349]\n",
      " [-0.0063507   0.01021349  1.05828356]]\n"
     ]
    }
   ],
   "source": [
    "R = np.random.randn(1000, 3)\n",
    "\n",
    "# Mean of columns: axis=row=0\n",
    "print(np.mean(R, axis=0))\n",
    "\n",
    "# Mean of rows\n",
    "print(np.mean(R, axis=1).shape)\n",
    "\n",
    "# np.cov treats each column as an observation\n",
    "print(np.cov(R).shape)\n",
    "print(np.cov(R.T))\n",
    "\n",
    "# Or,\n",
    "print(np.cov(R, rowvar=False))"
   ]
  },
  {
   "cell_type": "code",
   "execution_count": 21,
   "metadata": {},
   "outputs": [
    {
     "data": {
      "text/plain": [
       "array([[1, 9, 3],\n",
       "       [1, 4, 6],\n",
       "       [1, 9, 3]])"
      ]
     },
     "execution_count": 21,
     "metadata": {},
     "output_type": "execute_result"
    }
   ],
   "source": [
    "# random integer generation\n",
    "# (start, end (exclusive), shape)\n",
    "np.random.randint(0, 10, size=(3, 3))"
   ]
  },
  {
   "cell_type": "code",
   "execution_count": 22,
   "metadata": {},
   "outputs": [
    {
     "name": "stdout",
     "output_type": "stream",
     "text": [
      "[[5 0 3]\n",
      " [6 0 6]\n",
      " [3 4 8]]\n"
     ]
    }
   ],
   "source": [
    "# Or, use np.random.choice\n",
    "print(np.random.choice(10, size=(3, 3)))"
   ]
  },
  {
   "cell_type": "markdown",
   "metadata": {},
   "source": [
    "Compare timing for matrix multiplication"
   ]
  },
  {
   "cell_type": "code",
   "execution_count": 23,
   "metadata": {},
   "outputs": [],
   "source": [
    "from time import time\n",
    "\n",
    "def numpy_matmul(A, B):\n",
    "    start = time()\n",
    "    res = np.dot(A, B)\n",
    "    return res, time() - start\n",
    "\n",
    "def list_matmul(A, B):\n",
    "    start = time()\n",
    "    if len(A[0]) != len(B):\n",
    "        raise ValueError(\"The number of columns in A must be equal to the number of rows in B for multiplication.\")\n",
    "    \n",
    "    # Initialize the result matrix with zeros\n",
    "    result = [[0 for _ in range(len(B[0]))] for _ in range(len(A))]\n",
    "    \n",
    "    for i in range(len(A)):\n",
    "        for j in range(len(B[0])):\n",
    "            for k in range(len(B)):\n",
    "                result[i][j] += A[i][k] * B[k][j]\n",
    "    \n",
    "    return result, time() - start"
   ]
  },
  {
   "cell_type": "code",
   "execution_count": 24,
   "metadata": {},
   "outputs": [],
   "source": [
    "list_times, np_times = [], []\n",
    "input_size = [i for i in range(50, 1000, 50)]\n",
    "\n",
    "for n in input_size:\n",
    "    A = np.random.randn(n, n)\n",
    "    B = np.random.randn(n, n)\n",
    "    _, list_time = list_matmul(A, B)\n",
    "    _, np_time = numpy_matmul(A, B)\n",
    "    list_times.append(list_time)\n",
    "    np_times.append(np_time)"
   ]
  },
  {
   "cell_type": "code",
   "execution_count": 25,
   "metadata": {},
   "outputs": [
    {
     "data": {
      "image/png": "[encoded data removed]",
      "text/plain": [
       "<Figure size 640x480 with 1 Axes>"
      ]
     },
     "metadata": {},
     "output_type": "display_data"
    }
   ],
   "source": [
    "import matplotlib.pyplot as plt\n",
    "\n",
    "# Create the line plot for list_times vs input_size\n",
    "plt.plot(input_size, list_times, label='list_times', marker='o', linestyle='-', color='b')\n",
    "\n",
    "# Create the line plot for np_times vs input_size\n",
    "plt.plot(input_size, np_times, label='np_times', marker='s', linestyle='--', color='r')\n",
    "\n",
    "# Add labels and a legend\n",
    "plt.xlabel('Input Size')\n",
    "plt.ylabel('Time (s)')\n",
    "plt.title('Execution Times')\n",
    "plt.legend()\n",
    "\n",
    "# Show the plot\n",
    "plt.show()\n"
   ]
  },
  {
   "cell_type": "code",
   "execution_count": null,
   "metadata": {},
   "outputs": [],
   "source": []
  }
 ],
 "metadata": {
  "kernelspec": {
   "display_name": "time_series_env",
   "language": "python",
   "name": "python3"
  },
  "language_info": {
   "codemirror_mode": {
    "name": "ipython",
    "version": 3
   },
   "file_extension": ".py",
   "mimetype": "text/x-python",
   "name": "python",
   "nbconvert_exporter": "python",
   "pygments_lexer": "ipython3",
   "version": "3.11.5"
  }
 },
 "nbformat": 4,
 "nbformat_minor": 2
}
