{
 "cells": [
  {
   "cell_type": "markdown",
   "metadata": {},
   "source": [
    "## Part I: Basics"
   ]
  },
  {
   "cell_type": "code",
   "execution_count": 2,
   "metadata": {},
   "outputs": [
    {
     "name": "stdout",
     "output_type": "stream",
     "text": [
      "Function itself: <function double at 0x0000025037DA4F40>\n",
      "Call the function: 4\n"
     ]
    }
   ],
   "source": [
    "# Function is a callable object in python\n",
    "def double(x):\n",
    "    return x * 2\n",
    "\n",
    "print(\"Function itself:\", double)\n",
    "print(\"Call the function:\", double(2))\n"
   ]
  },
  {
   "cell_type": "code",
   "execution_count": 3,
   "metadata": {},
   "outputs": [
    {
     "name": "stdout",
     "output_type": "stream",
     "text": [
      "4\n",
      "6\n"
     ]
    }
   ],
   "source": [
    "# Thus, functions can be passed as arguments\n",
    "def double(x):\n",
    "    return x * 2\n",
    "\n",
    "def triple(x):\n",
    "    return x * 3\n",
    "\n",
    "def calculate(func, x):\n",
    "    return func(x)\n",
    "\n",
    "print(calculate(double, 2))\n",
    "print(calculate(triple, 2))"
   ]
  },
  {
   "cell_type": "code",
   "execution_count": 4,
   "metadata": {},
   "outputs": [
    {
     "name": "stdout",
     "output_type": "stream",
     "text": [
      "6\n",
      "25\n"
     ]
    }
   ],
   "source": [
    "# Similarly, functions can be returned from functions\n",
    "def get_calculator(n):\n",
    "    def multiple(x):\n",
    "        return n * x\n",
    "    return multiple\n",
    "\n",
    "double = get_calculator(2)\n",
    "multiply_5 = get_calculator(5)\n",
    "print(double(3))\n",
    "print(multiply_5(5))"
   ]
  },
  {
   "cell_type": "code",
   "execution_count": 5,
   "metadata": {},
   "outputs": [],
   "source": [
    "# Decorator: a callable with input and return value are both normally functions\n",
    "def dec(f):\n",
    "    pass\n",
    "\n",
    "@dec\n",
    "def double(x):\n",
    "    return x * 2\n",
    "\n",
    "# This is equivalent to: double = dec(double)"
   ]
  },
  {
   "cell_type": "code",
   "execution_count": 6,
   "metadata": {},
   "outputs": [
    {
     "name": "stdout",
     "output_type": "stream",
     "text": [
      "1.0003690719604492\n"
     ]
    }
   ],
   "source": [
    "# Example with timer\n",
    "import time\n",
    "\n",
    "def timeit(f):\n",
    "    \n",
    "    def wrapper(x):\n",
    "        start = time.time()\n",
    "        ret = f(x)\n",
    "        print(time.time() - start)\n",
    "        return ret\n",
    "    \n",
    "    return wrapper\n",
    "\n",
    "@timeit\n",
    "def my_func(x):\n",
    "    # Equivalent to my_func = timeit(my_func)\n",
    "    time.sleep(x)\n",
    "\n",
    "my_func(1)"
   ]
  },
  {
   "cell_type": "code",
   "execution_count": 7,
   "metadata": {},
   "outputs": [
    {
     "name": "stdout",
     "output_type": "stream",
     "text": [
      "0.0\n"
     ]
    },
    {
     "data": {
      "text/plain": [
       "3"
      ]
     },
     "execution_count": 7,
     "metadata": {},
     "output_type": "execute_result"
    }
   ],
   "source": [
    "# Add args and kwargs for variable inputs to decorated functions\n",
    "import time\n",
    "\n",
    "def timeit(f):\n",
    "    \n",
    "    def wrapper(*args, **kwargs):\n",
    "        start = time.time()\n",
    "        ret = f(*args, **kwargs)\n",
    "        print(time.time() - start)\n",
    "        return ret\n",
    "    \n",
    "    return wrapper\n",
    "\n",
    "@timeit\n",
    "def my_func(x, y):\n",
    "    return x + y\n",
    "\n",
    "my_func(1, 2)"
   ]
  },
  {
   "cell_type": "code",
   "execution_count": 9,
   "metadata": {},
   "outputs": [
    {
     "name": "stdout",
     "output_type": "stream",
     "text": [
      "Run 10 times: 0.0\n"
     ]
    },
    {
     "data": {
      "text/plain": [
       "3"
      ]
     },
     "execution_count": 9,
     "metadata": {},
     "output_type": "execute_result"
    }
   ],
   "source": [
    "# Decorator with arguments\n",
    "import time\n",
    "\n",
    "def timeit(n_itr):\n",
    "\n",
    "    def inner(f):\n",
    "    \n",
    "        def wrapper(*args, **kwargs):\n",
    "            start = time.time()\n",
    "            for _ in range(n_itr):\n",
    "                ret = f(*args, **kwargs)\n",
    "            print(f\"Run {n_itr} times:\", time.time() - start)\n",
    "            return ret\n",
    "        return wrapper\n",
    "    \n",
    "    return inner\n",
    "\n",
    "@timeit(10)\n",
    "def my_func(x, y):\n",
    "    # Equivalent to my_func = timeit(10)(my_func)\n",
    "    return x + y\n",
    "\n",
    "my_func(1, 2)"
   ]
  },
  {
   "cell_type": "markdown",
   "metadata": {},
   "source": [
    "## II. Decorator for classes"
   ]
  },
  {
   "cell_type": "code",
   "execution_count": 12,
   "metadata": {},
   "outputs": [
    {
     "name": "stdout",
     "output_type": "stream",
     "text": [
      "Time: 0.0\n",
      "9\n",
      "Type of add: <class '__main__.Timer'>\n"
     ]
    }
   ],
   "source": [
    "import time\n",
    "\n",
    "class Timer:\n",
    "    def __init__(self, func):\n",
    "        self.func = func\n",
    "\n",
    "    # Each instance of Timer will be callable\n",
    "    def __call__(self, *args, **kwargs):\n",
    "        start = time.time()\n",
    "        ret = self.func(*args, **kwargs)\n",
    "        print(f\"Time: {time.time() - start}\")\n",
    "        return ret\n",
    "\n",
    "@Timer\n",
    "def add(a, b):\n",
    "    # Equivalent to add = Timer(add), create an instance of Timer, which is a callable\n",
    "    return a + b\n",
    "\n",
    "print(add(4, 5))\n",
    "print(\"Type of add:\", type(add))"
   ]
  },
  {
   "cell_type": "code",
   "execution_count": 16,
   "metadata": {},
   "outputs": [
    {
     "name": "stdout",
     "output_type": "stream",
     "text": [
      "For 10 repeats, Time elapsed: 0.0\n",
      "9\n"
     ]
    }
   ],
   "source": [
    "# With arguments\n",
    "import time\n",
    "\n",
    "class Timer:\n",
    "    def __init__(self, prefix='it takes', n_itr=1):\n",
    "        self.prefix = prefix\n",
    "        self.n_itr = n_itr\n",
    "\n",
    "    def __call__(self, f):\n",
    "        def wrapper(*args, **kwargs):\n",
    "            start = time.time()\n",
    "            ret = f(*args, **kwargs)\n",
    "            print(f\"For {self.n_itr} repeats, {self.prefix}: {time.time() - start}\")\n",
    "            return ret\n",
    "        return wrapper\n",
    "\n",
    "@Timer(prefix='Time elapsed', n_itr=10)\n",
    "def add(a, b):\n",
    "    # Equivalent to add = Timer(prefix)(add)\n",
    "    # Timer(prefix) should return a callable\n",
    "    return a + b\n",
    "\n",
    "print(add(4, 5))"
   ]
  },
  {
   "cell_type": "code",
   "execution_count": 18,
   "metadata": {},
   "outputs": [
    {
     "name": "stdout",
     "output_type": "stream",
     "text": [
      "{'a': 1, 'b': 2}\n"
     ]
    }
   ],
   "source": [
    "# Decorator that decorates classes\n",
    "def add_str(cls):\n",
    "    def __str__(self):\n",
    "        return str(self.__dict__)\n",
    "    cls.__str__ = __str__\n",
    "    return cls\n",
    "\n",
    "@add_str\n",
    "class MyObj:\n",
    "    # Equivalent to MyObj = add_str(MyObj)\n",
    "    # add_str takes in a class and returns a class\n",
    "    def __init__(self, a, b) -> None:\n",
    "        self.a = a\n",
    "        self.b = b\n",
    "\n",
    "o = MyObj(1, 2)\n",
    "print(o)"
   ]
  },
  {
   "cell_type": "markdown",
   "metadata": {},
   "source": [
    "## III. Decorator in classse"
   ]
  },
  {
   "cell_type": "code",
   "execution_count": 23,
   "metadata": {},
   "outputs": [
    {
     "name": "stdout",
     "output_type": "stream",
     "text": [
      "Function started with args: (4,)\n",
      "Function started with args: (3,)\n",
      "Function started with args: (2,)\n",
      "Function started with args: (1,)\n",
      "Function ended with return value: 1\n",
      "Function ended with return value: 3\n",
      "Function ended with return value: 6\n",
      "Function ended with return value: 10\n"
     ]
    },
    {
     "data": {
      "text/plain": [
       "10"
      ]
     },
     "execution_count": 23,
     "metadata": {},
     "output_type": "execute_result"
    }
   ],
   "source": [
    "# Suppose we have the following decorator\n",
    "def log_function(func):\n",
    "    def wrapper(*args, **kwargs):\n",
    "        print('Function started with args:', args)\n",
    "        ret = func(*args, **kwargs)\n",
    "        print('Function ended with return value:', ret)\n",
    "        return ret\n",
    "    return wrapper\n",
    "\n",
    "@log_function\n",
    "def sum(n):\n",
    "    if n <= 1:\n",
    "        return n\n",
    "    return n + sum(n - 1)\n",
    "\n",
    "sum(4)"
   ]
  },
  {
   "cell_type": "code",
   "execution_count": 25,
   "metadata": {},
   "outputs": [
    {
     "name": "stdout",
     "output_type": "stream",
     "text": [
      "Function started with args: ()\n",
      "Function ended with return value: None\n",
      "Function started with args: ()\n",
      "Function ended with return value: None\n"
     ]
    }
   ],
   "source": [
    "# Define decorator inside a class\n",
    "class Decorators:\n",
    "    def log_function(func):\n",
    "        def wrapper(*args, **kwargs):\n",
    "            print('Function started with args:', args)\n",
    "            ret = func(*args, **kwargs)\n",
    "            print('Function ended with return value:', ret)\n",
    "            return ret\n",
    "        return wrapper\n",
    "\n",
    "    @log_function\n",
    "    def sum(self, n):\n",
    "        if n <= 1:\n",
    "            return n\n",
    "        return n + self.sum(n - 1)\n",
    "    \n",
    "    # This is equivalent to add decorator @staticmethod above log_function\n",
    "    # so that you can use the decorator inside and outside class\n",
    "    log_function = staticmethod(log_function)\n",
    "\n",
    "d = Decorators()\n",
    "\n",
    "# Both using instance or class to use log_function works\n",
    "@d.log_function\n",
    "def f():\n",
    "    pass\n",
    "\n",
    "@Decorators.log_function\n",
    "def g():\n",
    "    pass\n",
    "\n",
    "f()\n",
    "g()"
   ]
  },
  {
   "cell_type": "code",
   "execution_count": null,
   "metadata": {},
   "outputs": [],
   "source": []
  }
 ],
 "metadata": {
  "kernelspec": {
   "display_name": "Python 3",
   "language": "python",
   "name": "python3"
  },
  "language_info": {
   "codemirror_mode": {
    "name": "ipython",
    "version": 3
   },
   "file_extension": ".py",
   "mimetype": "text/x-python",
   "name": "python",
   "nbconvert_exporter": "python",
   "pygments_lexer": "ipython3",
   "version": "3.11.1"
  }
 },
 "nbformat": 4,
 "nbformat_minor": 2
}
