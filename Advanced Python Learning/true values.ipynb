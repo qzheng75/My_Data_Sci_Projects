{
 "cells": [
  {
   "cell_type": "code",
   "execution_count": 1,
   "metadata": {},
   "outputs": [
    {
     "name": "stdout",
     "output_type": "stream",
     "text": [
      "true\n",
      "true\n",
      "true\n",
      "true\n"
     ]
    }
   ],
   "source": [
    "a = True\n",
    "\n",
    "# determine whether a is True, if a is anything else but True, it will be False\n",
    "if a is True:\n",
    "    print(\"true\")\n",
    "\n",
    "# Should be avoided, because == can be overloaded\n",
    "if a == True:\n",
    "    print(\"true\")\n",
    "\n",
    "# If a is None, return False.\n",
    "# If a is a numerical type, zero = False, everything other number == True\n",
    "# For a sequence, len() == 0 means False, otherwise true\n",
    "# For custom defined objects, check whether __bool__ and __len__ are defined.\n",
    "# If neither are defined, return True. Otherwise based on results of __bool__ first, __len__ after.\n",
    "if a:\n",
    "    print(\"true\")\n",
    "\n",
    "# Same behavior as if a, not meaningful\n",
    "if bool(a):\n",
    "    print(\"true\")"
   ]
  },
  {
   "cell_type": "code",
   "execution_count": null,
   "metadata": {},
   "outputs": [],
   "source": []
  }
 ],
 "metadata": {
  "kernelspec": {
   "display_name": "Python 3",
   "language": "python",
   "name": "python3"
  },
  "language_info": {
   "codemirror_mode": {
    "name": "ipython",
    "version": 3
   },
   "file_extension": ".py",
   "mimetype": "text/x-python",
   "name": "python",
   "nbconvert_exporter": "python",
   "pygments_lexer": "ipython3",
   "version": "3.11.1"
  }
 },
 "nbformat": 4,
 "nbformat_minor": 2
}
