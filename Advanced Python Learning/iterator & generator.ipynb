{
 "cells": [
  {
   "cell_type": "markdown",
   "metadata": {},
   "source": [
    "**Iterable:** an object capable of returning its members one at a time. All iterables can be used in a for loop. It should be able to produce a iterator by calling the `iter()` method.\n",
    "\n",
    "**Iterator:** a stream of data. Repeated calls to iterator's `.next()` method or do `next(...)` will return successive items in the stream. Raise a `StopIteration` when there're no more elements in the stream."
   ]
  },
  {
   "cell_type": "code",
   "execution_count": 3,
   "metadata": {},
   "outputs": [
    {
     "name": "stdout",
     "output_type": "stream",
     "text": [
      "n1\n",
      "n2\n",
      "n3\n"
     ]
    }
   ],
   "source": [
    "# Example: design a linked list\n",
    "\n",
    "class NodeIter:\n",
    "    def __init__(self, cur_node) -> None:\n",
    "        self.cur_node = cur_node\n",
    "\n",
    "    # You have to define next method for an Iterator\n",
    "    def __next__(self):\n",
    "        if self.cur_node is None:\n",
    "            raise StopIteration('No more nodes')\n",
    "        node, self.cur_node = self.cur_node, self.cur_node.next\n",
    "        return node\n",
    "    \n",
    "    # It is also strongly recommended to implement __iter__ so that every iterable is iterable\n",
    "    def __iter__(self):\n",
    "        return self\n",
    "\n",
    "\n",
    "class Node:\n",
    "    def __init__(self, val, next=None) -> None:\n",
    "        self.val = val\n",
    "        self.next = next\n",
    "\n",
    "    # You have to define iter method for an Iterable\n",
    "    def __iter__(self):\n",
    "        return NodeIter(self)\n",
    "    \n",
    "n3 = Node('n3')\n",
    "n2 = Node('n2', n3)\n",
    "n1 = Node('n1', n2)\n",
    "\n",
    "for n in n1:\n",
    "    print(n.val)"
   ]
  },
  {
   "cell_type": "code",
   "execution_count": 4,
   "metadata": {},
   "outputs": [
    {
     "name": "stdout",
     "output_type": "stream",
     "text": [
      "n2\n",
      "n3\n"
     ]
    }
   ],
   "source": [
    "# Get iterator from an iterator\n",
    "it = iter(n1)\n",
    "first = next(it)\n",
    "\n",
    "for node in it:\n",
    "    print(node.val)"
   ]
  },
  {
   "cell_type": "markdown",
   "metadata": {},
   "source": [
    "### Generator"
   ]
  },
  {
   "cell_type": "code",
   "execution_count": 2,
   "metadata": {},
   "outputs": [
    {
     "name": "stdout",
     "output_type": "stream",
     "text": [
      "first: 5\n",
      "4\n",
      "3\n",
      "2\n",
      "1\n"
     ]
    }
   ],
   "source": [
    "# gen: generator function\n",
    "def gen(num):\n",
    "    while num > 0:\n",
    "        # Function will \"pause\" when you yield a value\n",
    "        yield num\n",
    "        num -= 1\n",
    "    # return here means StopIteration\n",
    "    return\n",
    "\n",
    "# g: a generator instance\n",
    "# When yield is included in a function, it will be marked as generator function\n",
    "g = gen(5)\n",
    "first = next(g)\n",
    "print('first:', first)\n",
    "\n",
    "for i in g:\n",
    "    print(i)"
   ]
  },
  {
   "cell_type": "code",
   "execution_count": 4,
   "metadata": {},
   "outputs": [
    {
     "name": "stdout",
     "output_type": "stream",
     "text": [
      "5\n",
      "4\n",
      "3\n",
      "2\n",
      "1\n"
     ]
    }
   ],
   "source": [
    "def gen(num):\n",
    "    while num > 0:\n",
    "        # Function will \"pause\" when you yield a value\n",
    "        yield num\n",
    "        num -= 1\n",
    "    # 100 here won't be printed\n",
    "    return 100 \n",
    "\n",
    "g = gen(5)\n",
    "\n",
    "for i in g:\n",
    "    print(i)"
   ]
  },
  {
   "cell_type": "code",
   "execution_count": 6,
   "metadata": {},
   "outputs": [
    {
     "name": "stdout",
     "output_type": "stream",
     "text": [
      "n1\n",
      "n2\n",
      "n3\n"
     ]
    }
   ],
   "source": [
    "# Example: rewrite linkedlist with generator\n",
    "\n",
    "class Node:\n",
    "    def __init__(self, val, next=None) -> None:\n",
    "        self.val = val\n",
    "        self.next = next\n",
    "\n",
    "    # You have to define iter method for an Iterable\n",
    "    def __iter__(self):\n",
    "        node = self\n",
    "        while node is not None:\n",
    "            yield node\n",
    "            node = node.next\n",
    "    \n",
    "n3 = Node('n3')\n",
    "n2 = Node('n2', n3)\n",
    "n1 = Node('n1', n2)\n",
    "\n",
    "for n in n1:\n",
    "    print(n.val)"
   ]
  },
  {
   "cell_type": "code",
   "execution_count": 7,
   "metadata": {},
   "outputs": [
    {
     "name": "stdout",
     "output_type": "stream",
     "text": [
      "First: 5\n",
      "Send: 9\n",
      "8\n",
      "7\n",
      "6\n",
      "5\n",
      "4\n",
      "3\n",
      "2\n",
      "1\n"
     ]
    }
   ],
   "source": [
    "# send() in generator\n",
    "\n",
    "def gen(num):\n",
    "    while num > 0:\n",
    "        temp = yield num\n",
    "        if temp is not None:\n",
    "            num = temp\n",
    "        num -= 1\n",
    "\n",
    "g = gen(5)\n",
    "first = next(g) # next(g) = g.send(None)\n",
    "print(f\"First: {first}\")\n",
    "\n",
    "# Send 10 to be value of temp inside generator, num is now 10 inside gen\n",
    "print(f\"Send: {g.send(10)}\")\n",
    "for i in g:\n",
    "    print(i)"
   ]
  },
  {
   "cell_type": "code",
   "execution_count": null,
   "metadata": {},
   "outputs": [],
   "source": [
    "# send() in generator\n",
    "\n",
    "def gen(num):\n",
    "    while num > 0:\n",
    "        yield num\n",
    "        num -= 1\n",
    "\n",
    "g = gen(5)\n",
    "first = next(g) # next(g) = g.send(None)\n",
    "print(f\"First: {first}\")\n",
    "\n",
    "# number sent is discarded when yield num isn't stored in any variable\n",
    "print(f\"Send: {g.send(10)}\")\n",
    "for i in g:\n",
    "    print(i)"
   ]
  }
 ],
 "metadata": {
  "kernelspec": {
   "display_name": "Python 3",
   "language": "python",
   "name": "python3"
  },
  "language_info": {
   "codemirror_mode": {
    "name": "ipython",
    "version": 3
   },
   "file_extension": ".py",
   "mimetype": "text/x-python",
   "name": "python",
   "nbconvert_exporter": "python",
   "pygments_lexer": "ipython3",
   "version": "3.11.1"
  }
 },
 "nbformat": 4,
 "nbformat_minor": 2
}
